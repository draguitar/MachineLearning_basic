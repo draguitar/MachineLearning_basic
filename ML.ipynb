{
 "cells": [
  {
   "cell_type": "code",
   "execution_count": 85,
   "metadata": {},
   "outputs": [],
   "source": [
    "import numpy as np\n",
    "import matplotlib.pyplot as plt\n",
    "import pandas as pd\n",
    "from sklearn.metrics import accuracy_score\n",
    "from sklearn.model_selection import train_test_split\n",
    "from sklearn.preprocessing import StandardScaler\n",
    "from sklearn import preprocessing   "
   ]
  },
  {
   "cell_type": "code",
   "execution_count": 86,
   "metadata": {},
   "outputs": [],
   "source": [
    "# X:input\n",
    "# y:output\n",
    "def getDate():\n",
    "    dataset = pd.read_csv('.//dataset.csv')\n",
    "    X = dataset.iloc[:, [0,1,2,3,4,5]].values\n",
    "    y = dataset.iloc[:, 6].values\n",
    "    return X,y"
   ]
  },
  {
   "cell_type": "code",
   "execution_count": 100,
   "metadata": {},
   "outputs": [
    {
     "name": "stdout",
     "output_type": "stream",
     "text": [
      "[[1.         1.         0.         0.         0.5        1.        ]\n",
      " [1.         0.66666667 0.         1.         0.         0.        ]\n",
      " [1.         0.66666667 0.         0.5        0.         0.5       ]\n",
      " [0.         0.66666667 0.         0.375      0.5        1.        ]\n",
      " [1.         0.         0.         0.625      0.5        0.5       ]\n",
      " [0.         0.33333333 1.         0.5        0.         1.        ]\n",
      " [1.         1.         0.         1.         1.         1.        ]\n",
      " [1.         0.33333333 0.         0.125      0.         0.        ]\n",
      " [0.         1.         0.         0.375      1.         0.5       ]\n",
      " [1.         1.         0.         0.125      1.         1.        ]\n",
      " [0.         1.         0.         0.5        0.         0.5       ]\n",
      " [0.         1.         0.         0.875      0.5        1.        ]\n",
      " [1.         0.33333333 0.         0.375      0.5        0.5       ]\n",
      " [0.         0.33333333 0.         1.         0.5        1.        ]\n",
      " [1.         1.         0.         0.125      0.5        0.        ]\n",
      " [1.         1.         0.         1.         0.5        0.5       ]\n",
      " [1.         0.33333333 0.         0.         0.5        0.5       ]\n",
      " [1.         1.         0.         0.625      0.5        0.        ]\n",
      " [0.         0.66666667 0.         0.25       0.         1.        ]\n",
      " [0.         0.         0.         0.875      0.         1.        ]\n",
      " [1.         1.         0.         0.625      0.5        0.        ]\n",
      " [1.         1.         0.         0.125      0.5        1.        ]\n",
      " [0.         0.66666667 0.         0.625      0.5        0.5       ]\n",
      " [1.         0.33333333 0.         0.625      0.5        1.        ]\n",
      " [1.         0.33333333 0.         0.625      0.5        1.        ]\n",
      " [0.         0.66666667 0.         0.25       0.         0.5       ]\n",
      " [1.         0.33333333 0.         1.         0.5        1.        ]\n",
      " [1.         0.         0.         0.125      0.         0.        ]\n",
      " [1.         0.         0.         0.         1.         1.        ]]\n",
      "[[0.         0.33333333 0.         0.75       0.5        1.        ]\n",
      " [0.         0.66666667 0.         1.         1.         1.        ]\n",
      " [1.         1.         0.         0.625      0.5        1.        ]\n",
      " [1.         1.         0.         0.125      1.         0.        ]\n",
      " [0.         0.66666667 0.         0.25       0.         1.        ]\n",
      " [1.         1.         0.         0.625      0.5        1.        ]\n",
      " [0.         0.         0.         0.625      0.5        0.5       ]\n",
      " [0.         0.66666667 3.         0.25       0.5        1.        ]\n",
      " [1.         1.33333333 0.         1.         1.         0.5       ]\n",
      " [1.         1.         0.         0.75       0.5        0.        ]\n",
      " [1.         0.         0.         0.75       0.5        0.5       ]\n",
      " [1.         0.         0.         0.625      0.         0.        ]\n",
      " [1.         1.         0.         1.         1.         0.5       ]]\n",
      "[4 4 4 4 1 1 3 4 1 3 3 4 4 1 3 4 4 3 4 1 3 3 1 1 1 1 4 1 1]\n",
      "[4 1 4 3 1 3 4 3 3 4 1 1 3]\n"
     ]
    }
   ],
   "source": [
    "# 70% 訓練集，30% 測試集\n",
    "\n",
    "def getSplit():\n",
    "    X, y = getDate()\n",
    "    X_train, X_test, y_train, y_test = train_test_split(X, y, test_size = 0.3, random_state = 0)   \n",
    "    # 標準化\n",
    "#     sc = StandardScaler()\n",
    "#     X_train = sc.fit_transform(X_train)\n",
    "#     X_test = sc.transform(X_test)\n",
    "    # 歸一化\n",
    "    min_max_scaler = preprocessing.MinMaxScaler()  \n",
    "    X_train = min_max_scaler.fit_transform(X_train)\n",
    "    X_test = min_max_scaler.transform(X_test)\n",
    "    return X_train, X_test, y_train, y_test"
   ]
  },
  {
   "cell_type": "markdown",
   "metadata": {},
   "source": [
    "## SVM\n",
    "## 參數說明\n",
    "\n",
    "* kernel\n",
    "    1. linear\n",
    "    2. rbf\n",
    "    3. sigmoid\n",
    "* C(懲罰函數)\n",
    "    * 可以自己調整"
   ]
  },
  {
   "cell_type": "code",
   "execution_count": 88,
   "metadata": {},
   "outputs": [
    {
     "data": {
      "text/plain": [
       "SVC(C=2, cache_size=200, class_weight=None, coef0=0.0,\n",
       "    decision_function_shape='ovr', degree=3, gamma='auto_deprecated',\n",
       "    kernel='linear', max_iter=-1, probability=False, random_state=0,\n",
       "    shrinking=True, tol=0.001, verbose=False)"
      ]
     },
     "execution_count": 88,
     "metadata": {},
     "output_type": "execute_result"
    }
   ],
   "source": [
    "from sklearn.svm import SVC\n",
    "X_train, X_test, y_train, y_test = getSplit()\n",
    "clf_SVM = SVC(C = 2, kernel = 'linear', random_state = 0)\n",
    "clf_SVM.fit(X_train, y_train)"
   ]
  },
  {
   "cell_type": "code",
   "execution_count": 89,
   "metadata": {},
   "outputs": [],
   "source": [
    "# 預測結果\n",
    "y_pred = clf_SVM.predict(X_test)"
   ]
  },
  {
   "cell_type": "code",
   "execution_count": 90,
   "metadata": {},
   "outputs": [
    {
     "data": {
      "text/plain": [
       "0.5384615384615384"
      ]
     },
     "execution_count": 90,
     "metadata": {},
     "output_type": "execute_result"
    }
   ],
   "source": [
    "# 正確率\n",
    "accuracy_score(y_test, y_pred)"
   ]
  },
  {
   "cell_type": "markdown",
   "metadata": {},
   "source": [
    "## 隨機森林\n",
    "### 因為每棵樹都取後放回，每個資料被選中機率是n分之1，沒被選中是1-(n分之1)，選擇n次"
   ]
  },
  {
   "cell_type": "markdown",
   "metadata": {},
   "source": [
    "### 參數說明\n",
    "* n_estimators \n",
    "    * 決策數樹的數量\n",
    "* max_features \n",
    "    * 最大特徵(可以自己調整)\n",
    "* criterion \n",
    "    1. 'entropy' \n",
    "    2. 'gini'\n"
   ]
  },
  {
   "cell_type": "code",
   "execution_count": 91,
   "metadata": {},
   "outputs": [],
   "source": [
    "from sklearn.ensemble import RandomForestClassifier\n",
    "X_train, X_test, y_train, y_test = getSplit()"
   ]
  },
  {
   "cell_type": "code",
   "execution_count": 92,
   "metadata": {},
   "outputs": [
    {
     "data": {
      "image/png": "[encoded data removed]",
      "text/plain": [
       "<Figure size 864x432 with 1 Axes>"
      ]
     },
     "metadata": {
      "needs_background": "light"
     },
     "output_type": "display_data"
    }
   ],
   "source": [
    "# 圖size\n",
    "plt.figure(figsize=(12, 6))\n",
    "# 圖的顏色\n",
    "color = ['r','g', 'b', 'c', 'm', 'y']\n",
    "\n",
    "# 雙迴圈\n",
    "# 樹從1~100\n",
    "# 特徵從1~6\n",
    "for j in range (1,7,1):\n",
    "    acc = []\n",
    "    trees = []\n",
    "    for i in range (1,101,1):\n",
    "        clf_RF = RandomForestClassifier(n_estimators = i, max_features= j , criterion = 'gini', random_state = 0)\n",
    "        clf_RF.fit(X_train, y_train)\n",
    "        y_pred = clf_RF.predict(X_test)\n",
    "        acc.append(accuracy_score(y_test, y_pred))\n",
    "        trees.append(i) \n",
    "    \n",
    "    plt.plot(trees, acc, color = color[j-1], label= '{}{}'.format('features:', j))\n",
    "    plt.legend(loc='best')\n",
    "plt.show()    \n",
    "\n",
    "# 最佳組合\n",
    "# max_features=6\n",
    "# n_estimators=4\n",
    "\n"
   ]
  },
  {
   "cell_type": "code",
   "execution_count": 93,
   "metadata": {},
   "outputs": [
    {
     "name": "stdout",
     "output_type": "stream",
     "text": [
      "0.6153846153846154\n"
     ]
    }
   ],
   "source": [
    "clf_RF = RandomForestClassifier(n_estimators = 4, max_features= 6 , criterion = 'gini', random_state = 0)\n",
    "clf_RF.fit(X_train, y_train)\n",
    "y_pred = clf_RF.predict(X_test)\n",
    "print(accuracy_score(y_test, y_pred))"
   ]
  },
  {
   "cell_type": "markdown",
   "metadata": {},
   "source": [
    "## C5.0 決策樹\n",
    "### 十次交叉驗證法\n",
    "* cv 交叉驗證次數\n",
    "* criterion\n",
    "    - entropy\n",
    "    - gini"
   ]
  },
  {
   "cell_type": "code",
   "execution_count": 94,
   "metadata": {},
   "outputs": [],
   "source": [
    "from sklearn.model_selection import cross_val_score"
   ]
  },
  {
   "cell_type": "code",
   "execution_count": 95,
   "metadata": {
    "scrolled": true
   },
   "outputs": [
    {
     "name": "stdout",
     "output_type": "stream",
     "text": [
      "0.6133333333333334\n"
     ]
    }
   ],
   "source": [
    "from sklearn.tree import DecisionTreeClassifier\n",
    "from sklearn.model_selection import KFold\n",
    "\n",
    "X,y = getDate()\n",
    "clf = DecisionTreeClassifier(criterion = 'gini', random_state = 0)\n",
    "# 平均正確率\n",
    "print(cross_val_score(clf, X, y, cv=10).mean())"
   ]
  },
  {
   "cell_type": "markdown",
   "metadata": {},
   "source": [
    "## GBDT"
   ]
  },
  {
   "cell_type": "code",
   "execution_count": 96,
   "metadata": {},
   "outputs": [
    {
     "name": "stdout",
     "output_type": "stream",
     "text": [
      "0.6923076923076923\n"
     ]
    }
   ],
   "source": [
    "from sklearn.ensemble import GradientBoostingClassifier\n",
    "X_train, X_test, y_train, y_test = getSplit()\n",
    "clf_GBDT = GradientBoostingClassifier(n_estimators=4, max_depth=1, min_samples_split=2, learning_rate=0.1)\n",
    "# print(cross_val_score(clf, X, y, cv=10).mean())\n",
    "clf_GBDT.fit(X_train, y_train)\n",
    "y_pred = clf_GBDT.predict(X_test)\n",
    "print(accuracy_score(y_test, y_pred))"
   ]
  }
 ],
 "metadata": {
  "kernelspec": {
   "display_name": "Python 3",
   "language": "python",
   "name": "python3"
  },
  "language_info": {
   "codemirror_mode": {
    "name": "ipython",
    "version": 3
   },
   "file_extension": ".py",
   "mimetype": "text/x-python",
   "name": "python",
   "nbconvert_exporter": "python",
   "pygments_lexer": "ipython3",
   "version": "3.7.3"
  }
 },
 "nbformat": 4,
 "nbformat_minor": 2
}
