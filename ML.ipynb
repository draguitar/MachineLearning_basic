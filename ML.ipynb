{
  "nbformat": 4,
  "nbformat_minor": 0,
  "metadata": {
    "kernelspec": {
      "display_name": "Python 3",
      "language": "python",
      "name": "python3"
    },
    "language_info": {
      "codemirror_mode": {
        "name": "ipython",
        "version": 3
      },
      "file_extension": ".py",
      "mimetype": "text/x-python",
      "name": "python",
      "nbconvert_exporter": "python",
      "pygments_lexer": "ipython3",
      "version": "3.7.3"
    },
    "colab": {
      "name": "ML.ipynb",
      "provenance": [],
      "toc_visible": true
    }
  },
  "cells": [
    {
      "cell_type": "code",
      "metadata": {
        "id": "HRI_gx4HQbyW",
        "colab_type": "code",
        "colab": {}
      },
      "source": [
        "import numpy as np\n",
        "import matplotlib.pyplot as plt\n",
        "import pandas as pd\n",
        "from sklearn.metrics import accuracy_score\n",
        "from sklearn.model_selection import train_test_split\n",
        "from sklearn.preprocessing import StandardScaler\n",
        "from sklearn import preprocessing   "
      ],
      "execution_count": 0,
      "outputs": []
    },
    {
      "cell_type": "code",
      "metadata": {
        "id": "EpcpKX-sQbyb",
        "colab_type": "code",
        "colab": {}
      },
      "source": [
        "# X:input\n",
        "# y:output\n",
        "def getDate():\n",
        "    dataset = pd.read_csv('.//dataset.csv')\n",
        "    X = dataset.iloc[:, [0,1,2,3,4,5]].values\n",
        "    y = dataset.iloc[:, 6].values\n",
        "    return X,y"
      ],
      "execution_count": 0,
      "outputs": []
    },
    {
      "cell_type": "code",
      "metadata": {
        "id": "hpE1nTflQbyr",
        "colab_type": "code",
        "colab": {}
      },
      "source": [
        "# 70% 訓練集，30% 測試集\n",
        "\n",
        "def getSplit():\n",
        "    X, y = getDate()\n",
        "    X_train, X_test, y_train, y_test = train_test_split(X, y, test_size = 0.3, random_state = 0)   \n",
        "    # 標準化\n",
        "#     sc = StandardScaler()\n",
        "#     X_train = sc.fit_transform(X_train)\n",
        "#     X_test = sc.transform(X_test)\n",
        "    # 歸一化\n",
        "    min_max_scaler = preprocessing.MinMaxScaler()  \n",
        "    X_train = min_max_scaler.fit_transform(X_train)\n",
        "    X_test = min_max_scaler.transform(X_test)\n",
        "    return X_train, X_test, y_train, y_test"
      ],
      "execution_count": 0,
      "outputs": []
    },
    {
      "cell_type": "markdown",
      "metadata": {
        "id": "aJlT4K2HQbyt",
        "colab_type": "text"
      },
      "source": [
        "## SVM\n",
        "## 參數說明\n",
        "\n",
        "* kernel\n",
        "    1. linear\n",
        "    2. rbf\n",
        "    3. sigmoid\n",
        "* C(懲罰函數)\n",
        "    * 可以自己調整"
      ]
    },
    {
      "cell_type": "code",
      "metadata": {
        "id": "1N6xZ20SQbyu",
        "colab_type": "code",
        "outputId": "bb411656-5fa8-45eb-c25e-460ef184cbf4",
        "colab": {
          "base_uri": "https://localhost:8080/",
          "height": 87
        }
      },
      "source": [
        "from sklearn.svm import SVC\n",
        "X_train, X_test, y_train, y_test = getSplit()\n",
        "clf_SVM = SVC(C = 2, kernel = 'linear', random_state = 0)\n",
        "clf_SVM.fit(X_train, y_train)"
      ],
      "execution_count": 8,
      "outputs": [
        {
          "output_type": "execute_result",
          "data": {
            "text/plain": [
              "SVC(C=2, cache_size=200, class_weight=None, coef0=0.0,\n",
              "    decision_function_shape='ovr', degree=3, gamma='auto_deprecated',\n",
              "    kernel='linear', max_iter=-1, probability=False, random_state=0,\n",
              "    shrinking=True, tol=0.001, verbose=False)"
            ]
          },
          "metadata": {
            "tags": []
          },
          "execution_count": 8
        }
      ]
    },
    {
      "cell_type": "code",
      "metadata": {
        "id": "GBB8y5BaQbyx",
        "colab_type": "code",
        "colab": {}
      },
      "source": [
        "# 預測結果\n",
        "y_pred = clf_SVM.predict(X_test)"
      ],
      "execution_count": 0,
      "outputs": []
    },
    {
      "cell_type": "code",
      "metadata": {
        "id": "iFMWcK8sQbyz",
        "colab_type": "code",
        "outputId": "0bcb5706-5c64-4745-e906-0bf7051060dd",
        "colab": {
          "base_uri": "https://localhost:8080/",
          "height": 35
        }
      },
      "source": [
        "# 正確率\n",
        "accuracy_score(y_test, y_pred)"
      ],
      "execution_count": 10,
      "outputs": [
        {
          "output_type": "execute_result",
          "data": {
            "text/plain": [
              "0.5384615384615384"
            ]
          },
          "metadata": {
            "tags": []
          },
          "execution_count": 10
        }
      ]
    },
    {
      "cell_type": "markdown",
      "metadata": {
        "id": "S5tcQ_I7Qby1",
        "colab_type": "text"
      },
      "source": [
        "## 隨機森林\n",
        "### 因為每棵樹都取後放回，每個資料被選中機率是n分之1，沒被選中是1-(n分之1)，選擇n次"
      ]
    },
    {
      "cell_type": "markdown",
      "metadata": {
        "id": "l1MnEWSpQby1",
        "colab_type": "text"
      },
      "source": [
        "### 參數說明\n",
        "* n_estimators \n",
        "    * 決策數樹的數量\n",
        "* max_features \n",
        "    * 最大特徵(可以自己調整)\n",
        "* criterion \n",
        "    1. 'entropy' \n",
        "    2. 'gini'\n"
      ]
    },
    {
      "cell_type": "code",
      "metadata": {
        "id": "TsGZRfeLQby2",
        "colab_type": "code",
        "colab": {}
      },
      "source": [
        "from sklearn.ensemble import RandomForestClassifier\n",
        "X_train, X_test, y_train, y_test = getSplit()"
      ],
      "execution_count": 0,
      "outputs": []
    },
    {
      "cell_type": "code",
      "metadata": {
        "id": "I5Za-zNSQby3",
        "colab_type": "code",
        "outputId": "26e88df2-ad7e-420f-a3fa-060c600b12c7",
        "colab": {
          "base_uri": "https://localhost:8080/",
          "height": 374
        }
      },
      "source": [
        "# 圖size\n",
        "plt.figure(figsize=(12, 6))\n",
        "# 圖的顏色\n",
        "color = ['r','g', 'b', 'c', 'm', 'y']\n",
        "\n",
        "# 雙迴圈\n",
        "# 樹從1~100\n",
        "# 特徵從1~6\n",
        "for j in range (1,7,1):\n",
        "    acc = []\n",
        "    trees = []\n",
        "    for i in range (1,101,1):\n",
        "        clf_RF = RandomForestClassifier(n_estimators = i, max_features= j , criterion = 'gini', random_state = 0)\n",
        "        clf_RF.fit(X_train, y_train)\n",
        "        y_pred = clf_RF.predict(X_test)\n",
        "        acc.append(accuracy_score(y_test, y_pred))\n",
        "        trees.append(i) \n",
        "    \n",
        "    plt.plot(trees, acc, color = color[j-1], label= '{}{}'.format('features:', j))\n",
        "    plt.legend(loc='best')\n",
        "plt.show()    \n",
        "\n",
        "# 最佳組合\n",
        "# max_features=6\n",
        "# n_estimators=4\n",
        "\n"
      ],
      "execution_count": 12,
      "outputs": [
        {
          "output_type": "display_data",
          "data": {
            "image/png": "[encoded data removed]",
            "text/plain": [
              "<Figure size 864x432 with 1 Axes>"
            ]
          },
          "metadata": {
            "tags": []
          }
        }
      ]
    },
    {
      "cell_type": "code",
      "metadata": {
        "id": "HnlMa6P9Qby5",
        "colab_type": "code",
        "outputId": "b707566c-1a44-45fd-8dba-9b2f82729d16",
        "colab": {
          "base_uri": "https://localhost:8080/",
          "height": 35
        }
      },
      "source": [
        "clf_RF = RandomForestClassifier(n_estimators = 4, max_features= 6 , criterion = 'gini', random_state = 0)\n",
        "clf_RF.fit(X_train, y_train)\n",
        "y_pred = clf_RF.predict(X_test)\n",
        "print(accuracy_score(y_test, y_pred))"
      ],
      "execution_count": 13,
      "outputs": [
        {
          "output_type": "stream",
          "text": [
            "0.6153846153846154\n"
          ],
          "name": "stdout"
        }
      ]
    },
    {
      "cell_type": "code",
      "metadata": {
        "id": "XExT1AMyRLeI",
        "colab_type": "code",
        "outputId": "68ae7b7a-0b79-40de-8cd5-26374b49ffda",
        "colab": {
          "base_uri": "https://localhost:8080/",
          "height": 228
        }
      },
      "source": [
        "from sklearn.ensemble import RandomForestRegressor\n",
        "import numpy as np\n",
        "\n",
        "df = pd.read_csv('dataset.csv')\n",
        "names = list(df)\n",
        "\n",
        "X = df.iloc[:, [0,1,2,3,4,5]].values\n",
        "Y = df.iloc[:, 6].values\n",
        "\n",
        "rf = RandomForestRegressor()\n",
        "rf.fit(X, Y)\n",
        "importances = rf.feature_importances_\n",
        "indices = np.argsort(importances)[::-1]\n",
        "for f in range(X.shape[1]):\n",
        "    print(\"%2d) %-*s %f\" % (f + 1, 30, names[indices[f]], importances[indices[f]]))\n",
        "    \n",
        "print('---'*10)\n",
        "\n",
        "print (\"Features sorted by their score:\")\n",
        "print (sorted(zip(map(lambda x: round(x, 4), rf.feature_importances_), names), reverse=True))"
      ],
      "execution_count": 14,
      "outputs": [
        {
          "output_type": "stream",
          "text": [
            " 1) age                            0.317069\n",
            " 2) character                      0.227228\n",
            " 3) sex                            0.177466\n",
            " 4) social                         0.164818\n",
            " 5) interest                       0.091995\n",
            " 6) edu                            0.021424\n",
            "------------------------------\n",
            "Features sorted by their score:\n",
            "[(0.3171, 'age'), (0.2272, 'character'), (0.1775, 'sex'), (0.1648, 'social'), (0.092, 'interest'), (0.0214, 'edu')]\n"
          ],
          "name": "stdout"
        },
        {
          "output_type": "stream",
          "text": [
            "/usr/local/lib/python3.6/dist-packages/sklearn/ensemble/forest.py:245: FutureWarning: The default value of n_estimators will change from 10 in version 0.20 to 100 in 0.22.\n",
            "  \"10 in version 0.20 to 100 in 0.22.\", FutureWarning)\n"
          ],
          "name": "stderr"
        }
      ]
    },
    {
      "cell_type": "code",
      "metadata": {
        "id": "lcqSpvvXUMy-",
        "colab_type": "code",
        "outputId": "cf125bd2-2792-41a7-b9ab-2cfde0629f02",
        "colab": {
          "base_uri": "https://localhost:8080/",
          "height": 399
        }
      },
      "source": [
        "for name, importance in zip(names, rf.feature_importances_):\n",
        "    print(name, \"=\", importance)\n",
        "##\n",
        "features = names\n",
        "importances = rf.feature_importances_\n",
        "indices = np.argsort(importances)\n",
        "\n",
        "plt.title('Feature Importances')\n",
        "plt.barh(range(len(indices)), importances[indices], color='b', align='center')\n",
        "plt.yticks(range(len(indices)), [features[i] for i in indices])\n",
        "plt.xlabel('Relative Importance')\n",
        "plt.show()"
      ],
      "execution_count": 15,
      "outputs": [
        {
          "output_type": "stream",
          "text": [
            "sex = 0.17746611526378642\n",
            "age = 0.3170689158903874\n",
            "edu = 0.021424080777851618\n",
            "character = 0.22722759820537528\n",
            "social = 0.1648183050179099\n",
            "interest = 0.09199498484468947\n"
          ],
          "name": "stdout"
        },
        {
          "output_type": "display_data",
          "data": {
            "image/png": "[encoded data removed]",
            "text/plain": [
              "<Figure size 432x288 with 1 Axes>"
            ]
          },
          "metadata": {
            "tags": []
          }
        }
      ]
    },
    {
      "cell_type": "markdown",
      "metadata": {
        "id": "JQORcAplQby7",
        "colab_type": "text"
      },
      "source": [
        "## C5.0 決策樹\n",
        "### 十次交叉驗證法\n",
        "* cv 交叉驗證次數\n",
        "* criterion\n",
        "    - entropy\n",
        "    - gini"
      ]
    },
    {
      "cell_type": "code",
      "metadata": {
        "id": "5kyYLLPaQby8",
        "colab_type": "code",
        "colab": {}
      },
      "source": [
        "from sklearn.model_selection import cross_val_score"
      ],
      "execution_count": 0,
      "outputs": []
    },
    {
      "cell_type": "code",
      "metadata": {
        "scrolled": true,
        "id": "w2dLrt08Qby9",
        "colab_type": "code",
        "outputId": "01a761a4-4fad-446c-b947-2fa6f9ab97ef",
        "colab": {
          "base_uri": "https://localhost:8080/",
          "height": 35
        }
      },
      "source": [
        "from sklearn.tree import DecisionTreeClassifier\n",
        "from sklearn.model_selection import KFold\n",
        "\n",
        "X,y = getDate()\n",
        "clf = DecisionTreeClassifier(criterion = 'gini', random_state = 0)\n",
        "# 平均正確率\n",
        "print(cross_val_score(clf, X, y, cv=10).mean())"
      ],
      "execution_count": 17,
      "outputs": [
        {
          "output_type": "stream",
          "text": [
            "0.6133333333333334\n"
          ],
          "name": "stdout"
        }
      ]
    },
    {
      "cell_type": "markdown",
      "metadata": {
        "id": "Jb_zBOeOQby_",
        "colab_type": "text"
      },
      "source": [
        "## GBDT"
      ]
    },
    {
      "cell_type": "code",
      "metadata": {
        "id": "4A0W9uK-QbzA",
        "colab_type": "code",
        "outputId": "b84f7393-67b0-4de1-8a17-1b068833ed33",
        "colab": {
          "base_uri": "https://localhost:8080/",
          "height": 35
        }
      },
      "source": [
        "from sklearn.ensemble import GradientBoostingClassifier\n",
        "X_train, X_test, y_train, y_test = getSplit()\n",
        "clf_GBDT = GradientBoostingClassifier(n_estimators=4, max_depth=1, min_samples_split=2, learning_rate=0.1)\n",
        "# print(cross_val_score(clf, X, y, cv=10).mean())\n",
        "clf_GBDT.fit(X_train, y_train)\n",
        "y_pred = clf_GBDT.predict(X_test)\n",
        "print(accuracy_score(y_test, y_pred))"
      ],
      "execution_count": 18,
      "outputs": [
        {
          "output_type": "stream",
          "text": [
            "0.6923076923076923\n"
          ],
          "name": "stdout"
        }
      ]
    }
  ]
}